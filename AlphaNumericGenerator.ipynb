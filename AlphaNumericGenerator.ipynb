{
 "cells": [
  {
   "cell_type": "code",
   "execution_count": 109,
   "metadata": {},
   "outputs": [
    {
     "name": "stdout",
     "output_type": "stream",
     "text": [
      "19QKUV22U0E49J48UEP8H6Q125WSF8MB1TQ0TP685QK34LW9\n"
     ]
    }
   ],
   "source": [
    "import random\n",
    "input = [\"A\",\"B\",\"C\",\"D\",\"E\",\"F\",\"G\",\"H\",\"I\",\"J\",\"K\",\"L\",\"M\",\"N\",\"O\",\"P\",\"Q\",\"R\",\"S\",\"T\",\"U\",\"V\",\"W\",\"X\",\"Y\",\"Z\"]\n",
    "input2 = [\"0\", \"1\", \"2\", \"3\", \"4\", \"5\", \"6\", \"7\", \"8\", \"9\"]\n",
    "y = random.randint(0, 5)\n",
    "\n",
    "output = []\n",
    "length = 48\n",
    "\n",
    "for z in range(0, length):\n",
    "    m = random.randint(0, 1)\n",
    "    if m == 0:\n",
    "        source = input\n",
    "        maxcharvalue = 23\n",
    "    else:\n",
    "        source = input2\n",
    "        maxcharvalue = 9\n",
    "    x = random.randint(0, maxcharvalue)\n",
    "    z += 1\n",
    "    output.append(source[x])\n",
    "    \n",
    "print(\"\".join(output))"
   ]
  },
  {
   "cell_type": "code",
   "execution_count": null,
   "metadata": {},
   "outputs": [],
   "source": []
  }
 ],
 "metadata": {
  "kernelspec": {
   "display_name": "Python 3",
   "language": "python",
   "name": "python3"
  },
  "language_info": {
   "codemirror_mode": {
    "name": "ipython",
    "version": 3
   },
   "file_extension": ".py",
   "mimetype": "text/x-python",
   "name": "python",
   "nbconvert_exporter": "python",
   "pygments_lexer": "ipython3",
   "version": "3.7.4"
  }
 },
 "nbformat": 4,
 "nbformat_minor": 2
}
